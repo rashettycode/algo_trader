{
 "cells": [
  {
   "cell_type": "code",
   "execution_count": 1,
   "id": "01d579e5-f1c3-45c9-be80-dcf9e1f8832c",
   "metadata": {},
   "outputs": [
    {
     "name": "stdout",
     "output_type": "stream",
     "text": [
      "         Date Ticker       Open       High        Low      Close     Volume  \\\n",
      "0  2014-07-01   AAPL  23.379999  23.517500  23.282499  23.379999  152892000   \n",
      "1  2014-07-02   AAPL  23.467501  23.514999  23.272499  23.370001  113860000   \n",
      "2  2014-07-03   AAPL  23.417500  23.525000  23.299999  23.507500   91567200   \n",
      "3  2014-07-07   AAPL  23.535000  23.997499  23.525000  23.992500  225872000   \n",
      "4  2014-07-08   AAPL  24.067499  24.200001  23.480000  23.837500  260888000   \n",
      "\n",
      "   Sentiment     DJI_Close  VIX_Close  CL=F_Close   GC=F_Close   SPY_Close  \\\n",
      "0        0.0  16956.070312      11.15  105.339996  1326.400024  197.029999   \n",
      "1        0.0  16976.240234      10.82  104.480003  1330.699951  197.229996   \n",
      "2        0.0  17068.259766      10.32  104.059998  1320.400024  198.199997   \n",
      "3        0.0  17024.210938      11.33  103.529999  1316.500000  197.509995   \n",
      "4        0.0  16906.619141      11.98  103.400002  1316.000000  196.240005   \n",
      "\n",
      "     Return     MA_5  MA_20  Volatility  \n",
      "0  0.000000   0.0000    0.0         0.0  \n",
      "1 -0.000428   0.0000    0.0         0.0  \n",
      "2  0.005884   0.0000    0.0         0.0  \n",
      "3  0.020632   0.0000    0.0         0.0  \n",
      "4 -0.006460  23.6175    0.0         0.0  \n"
     ]
    }
   ],
   "source": [
    "import pandas as pd\n",
    "\n",
    "# Load the feature-engineered dataset\n",
    "feature_engineered_path = 'data/processed/feature_engineered_dataset.parquet'\n",
    "feature_engineered_data = pd.read_parquet(feature_engineered_path)\n",
    "\n",
    "# Display the first few rows of the dataset\n",
    "print(feature_engineered_data.head())\n"
   ]
  },
  {
   "cell_type": "code",
   "execution_count": 3,
   "id": "6e08e2fa-152f-4c76-80da-d5b6253b84e2",
   "metadata": {},
   "outputs": [
    {
     "name": "stdout",
     "output_type": "stream",
     "text": [
      "Requirement already satisfied: pandas in c:\\users\\rahul\\desktop\\project_algo\\env\\lib\\site-packages (2.2.2)\n",
      "Requirement already satisfied: numpy in c:\\users\\rahul\\desktop\\project_algo\\env\\lib\\site-packages (2.0.0)\n",
      "Collecting scikit-learn\n",
      "  Using cached scikit_learn-1.5.1-cp311-cp311-win_amd64.whl.metadata (12 kB)\n",
      "Requirement already satisfied: joblib in c:\\users\\rahul\\desktop\\project_algo\\env\\lib\\site-packages (1.4.2)\n",
      "Requirement already satisfied: python-dateutil>=2.8.2 in c:\\users\\rahul\\desktop\\project_algo\\env\\lib\\site-packages (from pandas) (2.9.0.post0)\n",
      "Requirement already satisfied: pytz>=2020.1 in c:\\users\\rahul\\desktop\\project_algo\\env\\lib\\site-packages (from pandas) (2024.1)\n",
      "Requirement already satisfied: tzdata>=2022.7 in c:\\users\\rahul\\desktop\\project_algo\\env\\lib\\site-packages (from pandas) (2024.1)\n",
      "Collecting scipy>=1.6.0 (from scikit-learn)\n",
      "  Using cached scipy-1.14.0-cp311-cp311-win_amd64.whl.metadata (60 kB)\n",
      "Collecting threadpoolctl>=3.1.0 (from scikit-learn)\n",
      "  Using cached threadpoolctl-3.5.0-py3-none-any.whl.metadata (13 kB)\n",
      "Requirement already satisfied: six>=1.5 in c:\\users\\rahul\\desktop\\project_algo\\env\\lib\\site-packages (from python-dateutil>=2.8.2->pandas) (1.16.0)\n",
      "Using cached scikit_learn-1.5.1-cp311-cp311-win_amd64.whl (11.0 MB)\n",
      "Using cached scipy-1.14.0-cp311-cp311-win_amd64.whl (44.7 MB)\n",
      "Using cached threadpoolctl-3.5.0-py3-none-any.whl (18 kB)\n",
      "Installing collected packages: threadpoolctl, scipy, scikit-learn\n",
      "Successfully installed scikit-learn-1.5.1 scipy-1.14.0 threadpoolctl-3.5.0\n",
      "Note: you may need to restart the kernel to use updated packages.\n"
     ]
    }
   ],
   "source": [
    "pip install pandas numpy scikit-learn joblib\n"
   ]
  },
  {
   "cell_type": "code",
   "execution_count": 8,
   "id": "525f9bf1-0110-467b-9e8b-870ed852dff0",
   "metadata": {},
   "outputs": [
    {
     "data": {
      "text/plain": [
       "['C:\\\\Users\\\\rahul\\\\Desktop\\\\Project_Algo\\\\env',\n",
       " 'C:\\\\Users\\\\rahul\\\\Desktop\\\\Project_Algo\\\\env\\\\Lib\\\\site-packages']"
      ]
     },
     "execution_count": 8,
     "metadata": {},
     "output_type": "execute_result"
    }
   ],
   "source": [
    "import site\n",
    "site.getsitepackages()\n"
   ]
  },
  {
   "cell_type": "code",
   "execution_count": 13,
   "id": "ed4974c6-b8d8-40c4-87f2-088b65d4222c",
   "metadata": {},
   "outputs": [
    {
     "name": "stdout",
     "output_type": "stream",
     "text": [
      "Collecting sklearn\n",
      "  Using cached sklearn-0.0.post12.tar.gz (2.6 kB)\n",
      "  Installing build dependencies: started\n",
      "  Installing build dependencies: finished with status 'done'\n",
      "  Getting requirements to build wheel: started\n",
      "  Getting requirements to build wheel: finished with status 'error'\n",
      "Note: you may need to restart the kernel to use updated packages.\n"
     ]
    },
    {
     "name": "stderr",
     "output_type": "stream",
     "text": [
      "  error: subprocess-exited-with-error\n",
      "  \n",
      "  Getting requirements to build wheel did not run successfully.\n",
      "  exit code: 1\n",
      "  \n",
      "  [15 lines of output]\n",
      "  The 'sklearn' PyPI package is deprecated, use 'scikit-learn'\n",
      "  rather than 'sklearn' for pip commands.\n",
      "  \n",
      "  Here is how to fix this error in the main use cases:\n",
      "  - use 'pip install scikit-learn' rather than 'pip install sklearn'\n",
      "  - replace 'sklearn' by 'scikit-learn' in your pip requirements files\n",
      "    (requirements.txt, setup.py, setup.cfg, Pipfile, etc ...)\n",
      "  - if the 'sklearn' package is used by one of your dependencies,\n",
      "    it would be great if you take some time to track which package uses\n",
      "    'sklearn' instead of 'scikit-learn' and report it to their issue tracker\n",
      "  - as a last resort, set the environment variable\n",
      "    SKLEARN_ALLOW_DEPRECATED_SKLEARN_PACKAGE_INSTALL=True to avoid this error\n",
      "  \n",
      "  More information is available at\n",
      "  https://github.com/scikit-learn/sklearn-pypi-package\n",
      "  [end of output]\n",
      "  \n",
      "  note: This error originates from a subprocess, and is likely not a problem with pip.\n",
      "error: subprocess-exited-with-error\n",
      "\n",
      "Getting requirements to build wheel did not run successfully.\n",
      "exit code: 1\n",
      "\n",
      "See above for output.\n",
      "\n",
      "note: This error originates from a subprocess, and is likely not a problem with pip.\n"
     ]
    }
   ],
   "source": [
    "pip install sklearn"
   ]
  },
  {
   "cell_type": "code",
   "execution_count": 14,
   "id": "4590786b-5a67-4e7a-97f0-7cc03bc329a7",
   "metadata": {},
   "outputs": [
    {
     "name": "stdout",
     "output_type": "stream",
     "text": [
      "Requirement already satisfied: scikit-learn in c:\\users\\rahul\\desktop\\project_algo\\env\\lib\\site-packages (1.5.1)\n",
      "Requirement already satisfied: numpy>=1.19.5 in c:\\users\\rahul\\desktop\\project_algo\\env\\lib\\site-packages (from scikit-learn) (2.0.0)\n",
      "Requirement already satisfied: scipy>=1.6.0 in c:\\users\\rahul\\desktop\\project_algo\\env\\lib\\site-packages (from scikit-learn) (1.14.0)\n",
      "Requirement already satisfied: joblib>=1.2.0 in c:\\users\\rahul\\desktop\\project_algo\\env\\lib\\site-packages (from scikit-learn) (1.4.2)\n",
      "Requirement already satisfied: threadpoolctl>=3.1.0 in c:\\users\\rahul\\desktop\\project_algo\\env\\lib\\site-packages (from scikit-learn) (3.5.0)\n",
      "Note: you may need to restart the kernel to use updated packages.\n"
     ]
    }
   ],
   "source": [
    "pip install scikit-learn"
   ]
  },
  {
   "cell_type": "code",
   "execution_count": 15,
   "id": "548e00f9-a978-496e-82c7-8de891a6fe84",
   "metadata": {},
   "outputs": [
    {
     "name": "stdout",
     "output_type": "stream",
     "text": [
      "         Date Ticker       Open       High        Low      Close     Volume  \\\n",
      "0  2014-07-01   AAPL  23.379999  23.517500  23.282499  23.379999  152892000   \n",
      "1  2014-07-02   AAPL  23.467501  23.514999  23.272499  23.370001  113860000   \n",
      "2  2014-07-03   AAPL  23.417500  23.525000  23.299999  23.507500   91567200   \n",
      "3  2014-07-07   AAPL  23.535000  23.997499  23.525000  23.992500  225872000   \n",
      "4  2014-07-08   AAPL  24.067499  24.200001  23.480000  23.837500  260888000   \n",
      "\n",
      "   Sentiment     DJI_Close  VIX_Close  CL=F_Close   GC=F_Close   SPY_Close  \\\n",
      "0        0.0  16956.070312      11.15  105.339996  1326.400024  197.029999   \n",
      "1        0.0  16976.240234      10.82  104.480003  1330.699951  197.229996   \n",
      "2        0.0  17068.259766      10.32  104.059998  1320.400024  198.199997   \n",
      "3        0.0  17024.210938      11.33  103.529999  1316.500000  197.509995   \n",
      "4        0.0  16906.619141      11.98  103.400002  1316.000000  196.240005   \n",
      "\n",
      "     Return     MA_5  MA_20  Volatility  \n",
      "0  0.000000   0.0000    0.0         0.0  \n",
      "1 -0.000428   0.0000    0.0         0.0  \n",
      "2  0.005884   0.0000    0.0         0.0  \n",
      "3  0.020632   0.0000    0.0         0.0  \n",
      "4 -0.006460  23.6175    0.0         0.0  \n",
      "Mean Squared Error: 0.00028689787264083425\n",
      "         Date Ticker  Prediction Decision\n",
      "0  2014-07-01   AAPL    0.001060     Hold\n",
      "1  2014-07-02   AAPL   -0.001881     Hold\n",
      "2  2014-07-03   AAPL    0.005765     Hold\n",
      "3  2014-07-07   AAPL    0.018421      Buy\n",
      "4  2014-07-08   AAPL    0.000111     Hold\n",
      "Trained model saved to data/processed/trained_model.pkl\n",
      "Dataset with predictions and decisions saved to data/processed/predictions_with_decisions.parquet\n"
     ]
    }
   ],
   "source": [
    "# Load necessary libraries\n",
    "import pandas as pd\n",
    "import numpy as np\n",
    "from sklearn.model_selection import train_test_split\n",
    "from sklearn.ensemble import RandomForestRegressor\n",
    "from sklearn.metrics import mean_squared_error\n",
    "import joblib\n",
    "\n",
    "# Load the feature-engineered dataset\n",
    "feature_engineered_path = 'data/processed/feature_engineered_dataset.parquet'\n",
    "feature_engineered_data = pd.read_parquet(feature_engineered_path)\n",
    "\n",
    "# Display the first few rows of the dataset\n",
    "print(feature_engineered_data.head())\n",
    "\n",
    "# Select features and target\n",
    "features = ['Open', 'High', 'Low', 'Close', 'Volume', 'Sentiment', 'MA_5', 'MA_20', 'Volatility']\n",
    "target = 'Return'\n",
    "\n",
    "# Split the data into training and testing sets\n",
    "X = feature_engineered_data[features]\n",
    "y = feature_engineered_data[target]\n",
    "X_train, X_test, y_train, y_test = train_test_split(X, y, test_size=0.2, random_state=42)\n",
    "\n",
    "# Train a Random Forest model\n",
    "model = RandomForestRegressor(n_estimators=100, random_state=42)\n",
    "model.fit(X_train, y_train)\n",
    "\n",
    "# Make predictions\n",
    "y_pred = model.predict(X_test)\n",
    "\n",
    "# Evaluate the model\n",
    "mse = mean_squared_error(y_test, y_pred)\n",
    "print(f'Mean Squared Error: {mse}')\n",
    "\n",
    "# Define thresholds for trading decisions\n",
    "buy_threshold = 0.01\n",
    "sell_threshold = -0.01\n",
    "\n",
    "# Make trading decisions based on model predictions\n",
    "feature_engineered_data['Prediction'] = model.predict(feature_engineered_data[features])\n",
    "feature_engineered_data['Decision'] = np.where(feature_engineered_data['Prediction'] > buy_threshold, 'Buy',\n",
    "                                               np.where(feature_engineered_data['Prediction'] < sell_threshold, 'Sell', 'Hold'))\n",
    "\n",
    "# Display the first few rows with trading decisions\n",
    "print(feature_engineered_data[['Date', 'Ticker', 'Prediction', 'Decision']].head())\n",
    "\n",
    "# Save the trained model\n",
    "model_path = 'data/processed/trained_model.pkl'\n",
    "joblib.dump(model, model_path)\n",
    "\n",
    "# Save the dataset with predictions and decisions\n",
    "predictions_path = 'data/processed/predictions_with_decisions.parquet'\n",
    "feature_engineered_data.to_parquet(predictions_path, index=False)\n",
    "\n",
    "# Confirm the files are saved\n",
    "print(f\"Trained model saved to {model_path}\")\n",
    "print(f\"Dataset with predictions and decisions saved to {predictions_path}\")\n"
   ]
  },
  {
   "cell_type": "code",
   "execution_count": 16,
   "id": "48dec702-c350-4243-af28-a1f8ac49acd7",
   "metadata": {},
   "outputs": [
    {
     "name": "stdout",
     "output_type": "stream",
     "text": [
      "Mean Squared Error: 0.0003121694410394703\n",
      "R^2 Score: 0.3176192461238918\n"
     ]
    }
   ],
   "source": [
    "import pandas as pd\n",
    "from sklearn.model_selection import train_test_split\n",
    "from sklearn.ensemble import RandomForestRegressor\n",
    "from sklearn.metrics import mean_squared_error, r2_score\n",
    "\n",
    "# Load the feature-engineered dataset\n",
    "data_path = 'data/processed/feature_engineered_dataset.parquet'\n",
    "df = pd.read_parquet(data_path)\n",
    "\n",
    "# Drop rows with missing values (if any)\n",
    "df.dropna(inplace=True)\n",
    "\n",
    "# Define the features and target\n",
    "features = ['Open', 'High', 'Low', 'Close', 'Volume', 'Sentiment', 'DJI_Close', 'VIX_Close', \n",
    "            'CL=F_Close', 'GC=F_Close', 'SPY_Close', 'MA_5', 'MA_20', 'Volatility']\n",
    "target = 'Return'\n",
    "\n",
    "X = df[features]\n",
    "y = df[target]\n",
    "\n",
    "# Split the data into training and testing sets\n",
    "X_train, X_test, y_train, y_test = train_test_split(X, y, test_size=0.2, random_state=42)\n",
    "\n",
    "# Initialize and train the model\n",
    "model = RandomForestRegressor(n_estimators=100, random_state=42)\n",
    "model.fit(X_train, y_train)\n",
    "\n",
    "# Make predictions\n",
    "y_pred = model.predict(X_test)\n",
    "\n",
    "# Evaluate the model\n",
    "mse = mean_squared_error(y_test, y_pred)\n",
    "r2 = r2_score(y_test, y_pred)\n",
    "\n",
    "print(f'Mean Squared Error: {mse}')\n",
    "print(f'R^2 Score: {r2}')\n"
   ]
  },
  {
   "cell_type": "code",
   "execution_count": 18,
   "id": "ce3da3a7-048a-4fef-a953-1cdafaf8d5b3",
   "metadata": {},
   "outputs": [
    {
     "name": "stdout",
     "output_type": "stream",
     "text": [
      "Collecting seaborn\n",
      "  Using cached seaborn-0.13.2-py3-none-any.whl.metadata (5.4 kB)\n",
      "Requirement already satisfied: numpy!=1.24.0,>=1.20 in c:\\users\\rahul\\desktop\\project_algo\\env\\lib\\site-packages (from seaborn) (2.0.0)\n",
      "Requirement already satisfied: pandas>=1.2 in c:\\users\\rahul\\desktop\\project_algo\\env\\lib\\site-packages (from seaborn) (2.2.2)\n",
      "Requirement already satisfied: matplotlib!=3.6.1,>=3.4 in c:\\users\\rahul\\desktop\\project_algo\\env\\lib\\site-packages (from seaborn) (3.9.1)\n",
      "Requirement already satisfied: contourpy>=1.0.1 in c:\\users\\rahul\\desktop\\project_algo\\env\\lib\\site-packages (from matplotlib!=3.6.1,>=3.4->seaborn) (1.2.1)\n",
      "Requirement already satisfied: cycler>=0.10 in c:\\users\\rahul\\desktop\\project_algo\\env\\lib\\site-packages (from matplotlib!=3.6.1,>=3.4->seaborn) (0.12.1)\n",
      "Requirement already satisfied: fonttools>=4.22.0 in c:\\users\\rahul\\desktop\\project_algo\\env\\lib\\site-packages (from matplotlib!=3.6.1,>=3.4->seaborn) (4.53.1)\n",
      "Requirement already satisfied: kiwisolver>=1.3.1 in c:\\users\\rahul\\desktop\\project_algo\\env\\lib\\site-packages (from matplotlib!=3.6.1,>=3.4->seaborn) (1.4.5)\n",
      "Requirement already satisfied: packaging>=20.0 in c:\\users\\rahul\\desktop\\project_algo\\env\\lib\\site-packages (from matplotlib!=3.6.1,>=3.4->seaborn) (24.1)\n",
      "Requirement already satisfied: pillow>=8 in c:\\users\\rahul\\desktop\\project_algo\\env\\lib\\site-packages (from matplotlib!=3.6.1,>=3.4->seaborn) (10.4.0)\n",
      "Requirement already satisfied: pyparsing>=2.3.1 in c:\\users\\rahul\\desktop\\project_algo\\env\\lib\\site-packages (from matplotlib!=3.6.1,>=3.4->seaborn) (3.1.2)\n",
      "Requirement already satisfied: python-dateutil>=2.7 in c:\\users\\rahul\\desktop\\project_algo\\env\\lib\\site-packages (from matplotlib!=3.6.1,>=3.4->seaborn) (2.9.0.post0)\n",
      "Requirement already satisfied: pytz>=2020.1 in c:\\users\\rahul\\desktop\\project_algo\\env\\lib\\site-packages (from pandas>=1.2->seaborn) (2024.1)\n",
      "Requirement already satisfied: tzdata>=2022.7 in c:\\users\\rahul\\desktop\\project_algo\\env\\lib\\site-packages (from pandas>=1.2->seaborn) (2024.1)\n",
      "Requirement already satisfied: six>=1.5 in c:\\users\\rahul\\desktop\\project_algo\\env\\lib\\site-packages (from python-dateutil>=2.7->matplotlib!=3.6.1,>=3.4->seaborn) (1.16.0)\n",
      "Using cached seaborn-0.13.2-py3-none-any.whl (294 kB)\n",
      "Installing collected packages: seaborn\n",
      "Successfully installed seaborn-0.13.2\n",
      "Note: you may need to restart the kernel to use updated packages.\n"
     ]
    }
   ],
   "source": [
    "pip install seaborn"
   ]
  },
  {
   "cell_type": "code",
   "execution_count": 19,
   "id": "700e9bb4-8d63-42ba-9b55-0b54c891d59d",
   "metadata": {},
   "outputs": [
    {
     "data": {
      "image/png": "[encoded data removed]",
      "text/plain": [
       "<Figure size 1000x600 with 1 Axes>"
      ]
     },
     "metadata": {},
     "output_type": "display_data"
    }
   ],
   "source": [
    "import matplotlib.pyplot as plt\n",
    "import seaborn as sns\n",
    "\n",
    "# Get feature importances\n",
    "importances = model.feature_importances_\n",
    "feature_names = X.columns\n",
    "feature_importances = pd.DataFrame({'Feature': feature_names, 'Importance': importances})\n",
    "\n",
    "# Sort by importance\n",
    "feature_importances = feature_importances.sort_values(by='Importance', ascending=False)\n",
    "\n",
    "# Plot feature importances\n",
    "plt.figure(figsize=(10, 6))\n",
    "sns.barplot(x='Importance', y='Feature', data=feature_importances)\n",
    "plt.title('Feature Importances')\n",
    "plt.show()\n"
   ]
  },
  {
   "cell_type": "code",
   "execution_count": 20,
   "id": "3ff7a210-56d6-40c1-8724-3801499f6c81",
   "metadata": {},
   "outputs": [
    {
     "name": "stdout",
     "output_type": "stream",
     "text": [
      "Fitting 3 folds for each of 108 candidates, totalling 324 fits\n",
      "Best parameters: {'max_depth': None, 'min_samples_leaf': 2, 'min_samples_split': 5, 'n_estimators': 200}\n",
      "Best Model Mean Squared Error: 0.00030369671113520595\n",
      "Best Model R^2 Score: 0.3361400462387548\n"
     ]
    }
   ],
   "source": [
    "from sklearn.model_selection import GridSearchCV\n",
    "from sklearn.ensemble import RandomForestRegressor\n",
    "\n",
    "# Define the parameter grid\n",
    "param_grid = {\n",
    "    'n_estimators': [50, 100, 200],\n",
    "    'max_depth': [None, 10, 20, 30],\n",
    "    'min_samples_split': [2, 5, 10],\n",
    "    'min_samples_leaf': [1, 2, 4]\n",
    "}\n",
    "\n",
    "# Initialize the grid search\n",
    "grid_search = GridSearchCV(estimator=RandomForestRegressor(random_state=42), param_grid=param_grid, cv=3, n_jobs=-1, verbose=2)\n",
    "\n",
    "# Perform the grid search\n",
    "grid_search.fit(X_train, y_train)\n",
    "\n",
    "# Get the best parameters\n",
    "best_params = grid_search.best_params_\n",
    "print(f'Best parameters: {best_params}')\n",
    "\n",
    "# Train the model with the best parameters\n",
    "best_model = grid_search.best_estimator_\n",
    "\n",
    "# Make predictions with the best model\n",
    "y_pred_best = best_model.predict(X_test)\n",
    "\n",
    "# Evaluate the best model\n",
    "mse_best = mean_squared_error(y_test, y_pred_best)\n",
    "r2_best = r2_score(y_test, y_pred_best)\n",
    "\n",
    "print(f'Best Model Mean Squared Error: {mse_best}')\n",
    "print(f'Best Model R^2 Score: {r2_best}')\n"
   ]
  },
  {
   "cell_type": "code",
   "execution_count": 21,
   "id": "897f77be-de33-45a5-8869-0edaee44bf52",
   "metadata": {},
   "outputs": [
    {
     "name": "stdout",
     "output_type": "stream",
     "text": [
      "Best model saved to data/processed/best_random_forest_model.pkl\n"
     ]
    }
   ],
   "source": [
    "import joblib\n",
    "\n",
    "# Save the best model to a file\n",
    "model_path = 'data/processed/best_random_forest_model.pkl'\n",
    "joblib.dump(best_model, model_path)\n",
    "print(f'Best model saved to {model_path}')\n"
   ]
  },
  {
   "cell_type": "code",
   "execution_count": null,
   "id": "3b486378-0446-47de-851b-d65dcf7f0aec",
   "metadata": {},
   "outputs": [],
   "source": []
  }
 ],
 "metadata": {
  "kernelspec": {
   "display_name": "Python 3 (ipykernel)",
   "language": "python",
   "name": "python3"
  },
  "language_info": {
   "codemirror_mode": {
    "name": "ipython",
    "version": 3
   },
   "file_extension": ".py",
   "mimetype": "text/x-python",
   "name": "python",
   "nbconvert_exporter": "python",
   "pygments_lexer": "ipython3",
   "version": "3.11.4"
  },
  "widgets": {
   "application/vnd.jupyter.widget-state+json": {
    "state": {},
    "version_major": 2,
    "version_minor": 0
   }
  }
 },
 "nbformat": 4,
 "nbformat_minor": 5
}
