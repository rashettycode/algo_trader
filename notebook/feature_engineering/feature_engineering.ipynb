{
 "cells": [
  {
   "cell_type": "code",
   "execution_count": 1,
   "id": "f407cd42-edf7-430c-892d-aaf7e6e8d74a",
   "metadata": {},
   "outputs": [
    {
     "name": "stdout",
     "output_type": "stream",
     "text": [
      "Requirement already satisfied: pandas in c:\\users\\rahul\\desktop\\project_algo\\env\\lib\\site-packages (2.2.2)\n",
      "Requirement already satisfied: numpy>=1.23.2 in c:\\users\\rahul\\desktop\\project_algo\\env\\lib\\site-packages (from pandas) (2.0.0)\n",
      "Requirement already satisfied: python-dateutil>=2.8.2 in c:\\users\\rahul\\desktop\\project_algo\\env\\lib\\site-packages (from pandas) (2.9.0.post0)\n",
      "Requirement already satisfied: pytz>=2020.1 in c:\\users\\rahul\\desktop\\project_algo\\env\\lib\\site-packages (from pandas) (2024.1)\n",
      "Requirement already satisfied: tzdata>=2022.7 in c:\\users\\rahul\\desktop\\project_algo\\env\\lib\\site-packages (from pandas) (2024.1)\n",
      "Requirement already satisfied: six>=1.5 in c:\\users\\rahul\\desktop\\project_algo\\env\\lib\\site-packages (from python-dateutil>=2.8.2->pandas) (1.16.0)\n",
      "Note: you may need to restart the kernel to use updated packages.\n"
     ]
    }
   ],
   "source": [
    "pip install pandas"
   ]
  },
  {
   "cell_type": "code",
   "execution_count": 2,
   "id": "876198c7-3c43-42fa-8655-18785139cc42",
   "metadata": {},
   "outputs": [
    {
     "name": "stdout",
     "output_type": "stream",
     "text": [
      "Requirement already satisfied: numpy in c:\\users\\rahul\\desktop\\project_algo\\env\\lib\\site-packages (2.0.0)\n",
      "Note: you may need to restart the kernel to use updated packages.\n"
     ]
    }
   ],
   "source": [
    "pip install numpy"
   ]
  },
  {
   "cell_type": "code",
   "execution_count": 1,
   "id": "c90ff5d4-1636-406a-8c78-b2fe9391975d",
   "metadata": {},
   "outputs": [
    {
     "name": "stdout",
     "output_type": "stream",
     "text": [
      "         Date Ticker       Open       High        Low      Close     Volume  \\\n",
      "0  2014-07-01   AAPL  23.379999  23.517500  23.282499  23.379999  152892000   \n",
      "1  2014-07-02   AAPL  23.467501  23.514999  23.272499  23.370001  113860000   \n",
      "2  2014-07-03   AAPL  23.417500  23.525000  23.299999  23.507500   91567200   \n",
      "3  2014-07-07   AAPL  23.535000  23.997499  23.525000  23.992500  225872000   \n",
      "4  2014-07-08   AAPL  24.067499  24.200001  23.480000  23.837500  260888000   \n",
      "\n",
      "   Sentiment     DJI_Close  VIX_Close  CL=F_Close   GC=F_Close   SPY_Close  \n",
      "0        NaN  16956.070312      11.15  105.339996  1326.400024  197.029999  \n",
      "1        NaN  16976.240234      10.82  104.480003  1330.699951  197.229996  \n",
      "2        NaN  17068.259766      10.32  104.059998  1320.400024  198.199997  \n",
      "3        NaN  17024.210938      11.33  103.529999  1316.500000  197.509995  \n",
      "4        NaN  16906.619141      11.98  103.400002  1316.000000  196.240005  \n",
      "         Date Ticker       Open       High        Low      Close     Volume  \\\n",
      "0  2014-07-01   AAPL  23.379999  23.517500  23.282499  23.379999  152892000   \n",
      "1  2014-07-02   AAPL  23.467501  23.514999  23.272499  23.370001  113860000   \n",
      "2  2014-07-03   AAPL  23.417500  23.525000  23.299999  23.507500   91567200   \n",
      "3  2014-07-07   AAPL  23.535000  23.997499  23.525000  23.992500  225872000   \n",
      "4  2014-07-08   AAPL  24.067499  24.200001  23.480000  23.837500  260888000   \n",
      "\n",
      "   Sentiment     DJI_Close  VIX_Close  CL=F_Close   GC=F_Close   SPY_Close  \\\n",
      "0        0.0  16956.070312      11.15  105.339996  1326.400024  197.029999   \n",
      "1        0.0  16976.240234      10.82  104.480003  1330.699951  197.229996   \n",
      "2        0.0  17068.259766      10.32  104.059998  1320.400024  198.199997   \n",
      "3        0.0  17024.210938      11.33  103.529999  1316.500000  197.509995   \n",
      "4        0.0  16906.619141      11.98  103.400002  1316.000000  196.240005   \n",
      "\n",
      "     Return     MA_5  MA_20  Volatility  \n",
      "0  0.000000   0.0000    0.0         0.0  \n",
      "1 -0.000428   0.0000    0.0         0.0  \n",
      "2  0.005884   0.0000    0.0         0.0  \n",
      "3  0.020632   0.0000    0.0         0.0  \n",
      "4 -0.006460  23.6175    0.0         0.0  \n",
      "Feature-engineered dataset saved to data/processed/feature_engineered_dataset.parquet\n"
     ]
    }
   ],
   "source": [
    "# Load necessary libraries\n",
    "import pandas as pd\n",
    "import numpy as np\n",
    "\n",
    "# Load the cleaned dataset\n",
    "streamlined_data_path = 'data/processed/streamlined_dataset.parquet'\n",
    "streamlined_data = pd.read_parquet(streamlined_data_path)\n",
    "\n",
    "# Display the first few rows of the dataset\n",
    "print(streamlined_data.head())\n",
    "\n",
    "# Calculate daily returns\n",
    "streamlined_data['Return'] = streamlined_data.groupby('Ticker')['Close'].pct_change()\n",
    "\n",
    "# Calculate moving averages\n",
    "streamlined_data['MA_5'] = streamlined_data.groupby('Ticker')['Close'].transform(lambda x: x.rolling(window=5).mean())\n",
    "streamlined_data['MA_20'] = streamlined_data.groupby('Ticker')['Close'].transform(lambda x: x.rolling(window=20).mean())\n",
    "\n",
    "# Calculate rolling volatility\n",
    "streamlined_data['Volatility'] = streamlined_data.groupby('Ticker')['Return'].transform(lambda x: x.rolling(window=20).std())\n",
    "\n",
    "# Fill any remaining missing values with 0\n",
    "streamlined_data = streamlined_data.fillna(0)\n",
    "\n",
    "# Display the first few rows with new features\n",
    "print(streamlined_data.head())\n",
    "\n",
    "# Save the feature-engineered dataset to a Parquet file in the processed data directory\n",
    "feature_engineered_path = 'data/processed/feature_engineered_dataset.parquet'\n",
    "streamlined_data.to_parquet(feature_engineered_path, index=False)\n",
    "\n",
    "# Confirm the file is saved\n",
    "print(f\"Feature-engineered dataset saved to {feature_engineered_path}\")\n"
   ]
  },
  {
   "cell_type": "code",
   "execution_count": null,
   "id": "ce391ef3-9a1b-421a-af01-cf09259fe224",
   "metadata": {},
   "outputs": [],
   "source": []
  }
 ],
 "metadata": {
  "kernelspec": {
   "display_name": "Python 3 (ipykernel)",
   "language": "python",
   "name": "python3"
  },
  "language_info": {
   "codemirror_mode": {
    "name": "ipython",
    "version": 3
   },
   "file_extension": ".py",
   "mimetype": "text/x-python",
   "name": "python",
   "nbconvert_exporter": "python",
   "pygments_lexer": "ipython3",
   "version": "3.11.4"
  },
  "widgets": {
   "application/vnd.jupyter.widget-state+json": {
    "state": {},
    "version_major": 2,
    "version_minor": 0
   }
  }
 },
 "nbformat": 4,
 "nbformat_minor": 5
}
